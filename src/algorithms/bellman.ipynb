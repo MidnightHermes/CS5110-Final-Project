{
 "cells": [
  {
   "cell_type": "code",
   "execution_count": 1,
   "metadata": {},
   "outputs": [],
   "source": [
    "import matplotlib.pyplot as plt\n",
    "from matplotlib.animation import FuncAnimation\n",
    "import networkx as nx\n",
    "from networkx.classes.function import get_edge_attributes\n",
    "from IPython.display import Image\n",
    "import random\n",
    "from random_graph import RandomGraphBuilder\n",
    "\n",
    "from bellman import NegativeCycleException"
   ]
  },
  {
   "cell_type": "code",
   "execution_count": null,
   "metadata": {},
   "outputs": [],
   "source": [
    "def bellman_ford(g, source):\n",
    "    \"\"\"\n",
    "    Computes all the shortest paths in a directed weighted graph with negative edge weights\n",
    "    (but not negative cycles) between every node and some source node s.\n",
    "    :param g: the graph to perform the algorithm on\n",
    "    :param source: the source node to query in g\n",
    "    :return: None if a negative cycle exists. Otherwise returns a pair of dictionaries containing (1) the distances of each node from source (2) the predecessors of each node u in the shortest path from source to u.\n",
    "    \"\"\"\n",
    "\n",
    "    n = g.number_of_nodes()\n",
    "    edges = g.edges\n",
    "\n",
    "    all_weights = get_edge_attributes(g, 'weight').values()\n",
    "    max_weight = max(all_weights)\n",
    "    inf = sum(map(abs, all_weights)) + max_weight\n",
    "\n",
    "    yield max_weight\n",
    "\n",
    "    distance = {v: inf * 2 for v in g.nodes}\n",
    "    predecessor = {v: None for v in g.nodes}\n",
    "\n",
    "    distance[source] = 0\n",
    "\n",
    "    yield distance.copy(), predecessor.copy()\n",
    "\n",
    "    for _ in range(n - 1):\n",
    "        for (u, v) in edges:\n",
    "            w = edges[u, v]['weight']\n",
    "            relax = distance[u] + w\n",
    "            if relax <= max_weight and relax < distance[v]:\n",
    "                distance[v] = distance[u] + w\n",
    "                predecessor[v] = u\n",
    "                \n",
    "                yield distance.copy(), predecessor.copy()\n",
    "\n",
    "    for (u, v) in edges:\n",
    "        w = edges[u, v]['weight']\n",
    "        if distance[u] + w < distance[v]:\n",
    "           yield NegativeCycleException(u, v, predecessor)"
   ]
  },
  {
   "cell_type": "code",
   "execution_count": 3,
   "metadata": {},
   "outputs": [],
   "source": [
    "def update_anim(frame, graph, inf, pos, ax):\n",
    "    ax.clear()\n",
    "\n",
    "    # Draw the full graph in grey with edge weights\n",
    "    nx.draw(graph, pos, ax=ax, node_color='lightgrey', edge_color='lightgrey', with_labels=False)\n",
    "    edge_labels = nx.get_edge_attributes(graph, 'weight')\n",
    "    nx.draw_networkx_edge_labels(graph, pos, edge_labels=edge_labels, ax=ax, font_color='grey')\n",
    "\n",
    "    if isinstance(frame, NegativeCycleException):\n",
    "        nx.draw_networkx_nodes(graph, pos, ax=ax, node_color='red')\n",
    "        return\n",
    "\n",
    "    dist, pred = frame\n",
    "\n",
    "    # Put distance from source as node labels\n",
    "    label = lambda n: 'inf' if dist[n] > inf else dist[n]\n",
    "    node_labels = {node: label(node) for node in graph.nodes}\n",
    "    nx.draw_networkx_labels(graph, pos ,labels=node_labels, ax=ax, font_color='black')\n",
    "\n",
    "    # Find edges on all shortest paths\n",
    "    edges = [(pred[v], v) for v in graph.nodes if pred[v] is not None]\n",
    "    nx.draw_networkx_edges(graph, pos, edgelist=edges, ax=ax, edge_color='red', style='dashed')\n",
    "    \n",
    "    edge_labels = {edge: graph.edges[edge]['weight'] for edge in edges}\n",
    "    nx.draw_networkx_edge_labels(graph, pos, edge_labels=edge_labels, ax=ax, font_color='red')\n",
    "\n",
    "\n"
   ]
  },
  {
   "cell_type": "code",
   "execution_count": 4,
   "metadata": {},
   "outputs": [
    {
     "ename": "KeyError",
     "evalue": "None",
     "output_type": "error",
     "traceback": [
      "\u001b[0;31m---------------------------------------------------------------------------\u001b[0m",
      "\u001b[0;31mKeyError\u001b[0m                                  Traceback (most recent call last)",
      "Cell \u001b[0;32mIn[4], line 12\u001b[0m\n\u001b[1;32m      8\u001b[0m bellman_gen \u001b[38;5;241m=\u001b[39m bellman_ford(G, start)\n\u001b[1;32m     10\u001b[0m inf \u001b[38;5;241m=\u001b[39m \u001b[38;5;28mnext\u001b[39m(bellman_gen)\n\u001b[0;32m---> 12\u001b[0m thing \u001b[38;5;241m=\u001b[39m \u001b[38;5;28;43mlist\u001b[39;49m\u001b[43m(\u001b[49m\u001b[43mbellman_gen\u001b[49m\u001b[43m)\u001b[49m\n\u001b[1;32m     14\u001b[0m FuncAnimation(fig, update_anim, frames\u001b[38;5;241m=\u001b[39mthing, fargs\u001b[38;5;241m=\u001b[39m(G, inf, pos, ax), interval\u001b[38;5;241m=\u001b[39m\u001b[38;5;241m1000\u001b[39m, repeat\u001b[38;5;241m=\u001b[39m\u001b[38;5;28;01mFalse\u001b[39;00m)\u001b[38;5;241m.\u001b[39msave(\u001b[38;5;124m\"\u001b[39m\u001b[38;5;124mbford_animation.gif\u001b[39m\u001b[38;5;124m\"\u001b[39m, writer\u001b[38;5;241m=\u001b[39m\u001b[38;5;124m'\u001b[39m\u001b[38;5;124mpillow\u001b[39m\u001b[38;5;124m'\u001b[39m, fps\u001b[38;5;241m=\u001b[39m\u001b[38;5;241m0.5\u001b[39m)\n\u001b[1;32m     16\u001b[0m Image(filename\u001b[38;5;241m=\u001b[39m\u001b[38;5;124m\"\u001b[39m\u001b[38;5;124mbford_animation.gif\u001b[39m\u001b[38;5;124m\"\u001b[39m)\n",
      "Cell \u001b[0;32mIn[2], line 39\u001b[0m, in \u001b[0;36mbellman_ford\u001b[0;34m(g, source)\u001b[0m\n\u001b[1;32m     37\u001b[0m w \u001b[38;5;241m=\u001b[39m edges[u, v][\u001b[38;5;124m'\u001b[39m\u001b[38;5;124mweight\u001b[39m\u001b[38;5;124m'\u001b[39m]\n\u001b[1;32m     38\u001b[0m \u001b[38;5;28;01mif\u001b[39;00m distance[u] \u001b[38;5;241m+\u001b[39m w \u001b[38;5;241m<\u001b[39m distance[v]:\n\u001b[0;32m---> 39\u001b[0m    \u001b[38;5;28;01myield\u001b[39;00m \u001b[43mNegativeCycleException\u001b[49m\u001b[43m(\u001b[49m\u001b[43mu\u001b[49m\u001b[43m,\u001b[49m\u001b[43m \u001b[49m\u001b[43mv\u001b[49m\u001b[43m,\u001b[49m\u001b[43m \u001b[49m\u001b[43mpredecessor\u001b[49m\u001b[43m)\u001b[49m\n",
      "File \u001b[0;32m~/coding/python/CS5110-Final-Project/src/algorithms/bellman.py:28\u001b[0m, in \u001b[0;36mNegativeCycleException.__init__\u001b[0;34m(self, u, v, preds)\u001b[0m\n\u001b[1;32m     27\u001b[0m \u001b[38;5;28;01mdef\u001b[39;00m \u001b[38;5;21m__init__\u001b[39m(\u001b[38;5;28mself\u001b[39m, u, v, preds):\n\u001b[0;32m---> 28\u001b[0m     \u001b[38;5;28mself\u001b[39m\u001b[38;5;241m.\u001b[39m_cycle \u001b[38;5;241m=\u001b[39m \u001b[43mNegativeCycleException\u001b[49m\u001b[38;5;241;43m.\u001b[39;49m\u001b[43mbuild_cycle\u001b[49m\u001b[43m(\u001b[49m\u001b[43mu\u001b[49m\u001b[43m,\u001b[49m\u001b[43m \u001b[49m\u001b[43mv\u001b[49m\u001b[43m,\u001b[49m\u001b[43m \u001b[49m\u001b[43mpreds\u001b[49m\u001b[43m)\u001b[49m\n\u001b[1;32m     30\u001b[0m     \u001b[38;5;28msuper\u001b[39m()\u001b[38;5;241m.\u001b[39m\u001b[38;5;21m__init__\u001b[39m(\u001b[38;5;124mf\u001b[39m\u001b[38;5;124m\"\u001b[39m\u001b[38;5;124mNegative cycle composed of \u001b[39m\u001b[38;5;132;01m{\u001b[39;00m\u001b[38;5;28mself\u001b[39m\u001b[38;5;241m.\u001b[39m_cycle\u001b[38;5;132;01m}\u001b[39;00m\u001b[38;5;124m\"\u001b[39m)\n",
      "File \u001b[0;32m~/coding/python/CS5110-Final-Project/src/algorithms/bellman.py:12\u001b[0m, in \u001b[0;36mNegativeCycleException.build_cycle\u001b[0;34m(u, v, preds)\u001b[0m\n\u001b[1;32m      9\u001b[0m visited \u001b[38;5;241m=\u001b[39m {k: \u001b[38;5;28;01mFalse\u001b[39;00m \u001b[38;5;28;01mfor\u001b[39;00m k \u001b[38;5;129;01min\u001b[39;00m preds\u001b[38;5;241m.\u001b[39mkeys()}\n\u001b[1;32m     10\u001b[0m visited[v] \u001b[38;5;241m=\u001b[39m \u001b[38;5;28;01mTrue\u001b[39;00m\n\u001b[0;32m---> 12\u001b[0m \u001b[38;5;28;01mwhile\u001b[39;00m \u001b[38;5;129;01mnot\u001b[39;00m \u001b[43mvisited\u001b[49m\u001b[43m[\u001b[49m\u001b[43mu\u001b[49m\u001b[43m]\u001b[49m:\n\u001b[1;32m     13\u001b[0m     visited[u] \u001b[38;5;241m=\u001b[39m \u001b[38;5;28;01mTrue\u001b[39;00m\n\u001b[1;32m     14\u001b[0m     u \u001b[38;5;241m=\u001b[39m preds[u]\n",
      "\u001b[0;31mKeyError\u001b[0m: None"
     ]
    },
    {
     "data": {
      "image/png": "[encoded data removed]",
      "text/plain": [
       "<Figure size 400x400 with 1 Axes>"
      ]
     },
     "metadata": {},
     "output_type": "display_data"
    }
   ],
   "source": [
    "G = RandomGraphBuilder(True).nodes(7).strongly_connected().random_edges(.15).weighted(range(-1, 11)).build()\n",
    "\n",
    "fig, ax = plt.subplots(figsize=(4, 4))\n",
    "\n",
    "start = random.choice(list(G.nodes))\n",
    "pos = nx.bfs_layout(G, start)\n",
    "\n",
    "bellman_gen = bellman_ford(G, start)\n",
    "\n",
    "inf = next(bellman_gen)\n",
    "\n",
    "thing = list(bellman_gen)\n",
    "\n",
    "FuncAnimation(fig, update_anim, frames=thing, fargs=(G, inf, pos, ax), interval=1000, repeat=False).save(\"bford_animation.gif\", writer='pillow', fps=0.5)\n",
    "\n",
    "Image(filename=\"bford_animation.gif\")\n"
   ]
  }
 ],
 "metadata": {
  "kernelspec": {
   "display_name": "5110Proj",
   "language": "python",
   "name": "python3"
  },
  "language_info": {
   "codemirror_mode": {
    "name": "ipython",
    "version": 3
   },
   "file_extension": ".py",
   "mimetype": "text/x-python",
   "name": "python",
   "nbconvert_exporter": "python",
   "pygments_lexer": "ipython3",
   "version": "3.11.1"
  }
 },
 "nbformat": 4,
 "nbformat_minor": 2
}
